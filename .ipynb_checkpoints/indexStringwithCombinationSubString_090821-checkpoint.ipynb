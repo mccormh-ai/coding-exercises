{
 "cells": [
  {
   "cell_type": "code",
   "execution_count": null,
   "id": "d3cb4ad9-2084-49bb-ad29-23936c2c2957",
   "metadata": {},
   "outputs": [],
   "source": []
  },
  {
   "cell_type": "code",
   "execution_count": 1,
   "id": "614c04ec-8d11-4f5f-aad3-45ce6a0f1d22",
   "metadata": {},
   "outputs": [],
   "source": [
    "# Good morning! Here's your coding interview problem for today.\n",
    "\n",
    "# This problem was asked by Dropbox.\n",
    "\n",
    "# Given a string s and a list of words words, where each word is the same length, find all starting indices of substrings in s that is a concatenation of every word in words exactly once.\n",
    "\n",
    "# For example, given s = \"dogcatcatcodecatdog\" and words = [\"cat\", \"dog\"], return [0, 13], since \"dogcat\" starts at index 0 and \"catdog\" starts at index 13.\n",
    "\n",
    "# Given s = \"barfoobazbitbyte\" and words = [\"dog\", \"cat\"], return [] since there are no substrings composed of \"dog\" and \"cat\" in s.\n",
    "\n",
    "# The order of the indices does not matter."
   ]
  },
  {
   "cell_type": "code",
   "execution_count": 12,
   "id": "ae66a3bc-339f-41fa-96ad-cd85be4b5f02",
   "metadata": {},
   "outputs": [
    {
     "name": "stdout",
     "output_type": "stream",
     "text": [
      "0\n",
      "1\n",
      "[0]\n",
      "[0]\n"
     ]
    }
   ],
   "source": [
    "test_string = 'dogcatcatcodecatdog'\n",
    "\n",
    "search_term = 'dogcat'\n",
    "\n",
    "index_list = []\n",
    "\n",
    "i = 0\n",
    "\n",
    "while i < len(test_string):\n",
    "    try:\n",
    "        print(i)\n",
    "        i = test_string.index(search_term, i, len(test_string))\n",
    "        index_list.append(i)\n",
    "        i = i + 1\n",
    "    except ValueError as e:\n",
    "        if len(index_list) != 0:\n",
    "            print(index_list)            \n",
    "        else:\n",
    "            print(\"No Valid Index of Search Term\")\n",
    "        break"
   ]
  },
  {
   "cell_type": "code",
   "execution_count": null,
   "id": "22eff523-a548-401e-ac77-1ed262d98546",
   "metadata": {},
   "outputs": [],
   "source": []
  }
 ],
 "metadata": {
  "kernelspec": {
   "display_name": "Python 3 (ipykernel)",
   "language": "python",
   "name": "python3"
  },
  "language_info": {
   "codemirror_mode": {
    "name": "ipython",
    "version": 3
   },
   "file_extension": ".py",
   "mimetype": "text/x-python",
   "name": "python",
   "nbconvert_exporter": "python",
   "pygments_lexer": "ipython3",
   "version": "3.8.10"
  }
 },
 "nbformat": 4,
 "nbformat_minor": 5
}
