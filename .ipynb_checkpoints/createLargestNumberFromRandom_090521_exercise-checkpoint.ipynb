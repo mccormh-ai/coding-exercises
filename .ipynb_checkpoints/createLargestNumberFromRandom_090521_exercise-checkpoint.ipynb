{
 "cells": [
  {
   "cell_type": "code",
   "execution_count": 1,
   "id": "823bddcf-5a22-4ff2-853a-9f14253ff8cb",
   "metadata": {},
   "outputs": [
    {
     "name": "stdout",
     "output_type": "stream",
     "text": [
      "Requirement already satisfied: pandas in /home/raine/.local/lib/python3.8/site-packages (1.3.2)\n",
      "Requirement already satisfied: numpy>=1.17.3 in /home/raine/.local/lib/python3.8/site-packages (from pandas) (1.21.2)\n",
      "Requirement already satisfied: python-dateutil>=2.7.3 in /usr/lib/python3/dist-packages (from pandas) (2.7.3)\n",
      "Requirement already satisfied: pytz>=2017.3 in /usr/lib/python3/dist-packages (from pandas) (2019.3)\n",
      "Requirement already satisfied: numpy in /home/raine/.local/lib/python3.8/site-packages (1.21.2)\n"
     ]
    }
   ],
   "source": [
    "# Install a pip package in the current Jupyter kernel\n",
    "import sys\n",
    "!{sys.executable} -m pip install pandas\n",
    "import pandas as pd\n",
    "!{sys.executable} -m pip install numpy\n",
    "import numpy as np\n",
    "import random"
   ]
  },
  {
   "cell_type": "code",
   "execution_count": 2,
   "id": "4e1f23c9-996f-4664-b515-2db78e42deef",
   "metadata": {},
   "outputs": [],
   "source": [
    "# Good morning! Here's your coding interview problem for today.\n",
    "\n",
    "# This problem was asked by Twitter.\n",
    "\n",
    "# Given a list of numbers, create an algorithm that arranges them in order to form the largest possible integer.\n",
    "# For example, given [10, 7, 76, 415], you should return 77641510."
   ]
  },
  {
   "cell_type": "code",
   "execution_count": 3,
   "id": "ef836553-fffa-4c92-b23f-2fd9d0982386",
   "metadata": {},
   "outputs": [
    {
     "name": "stdout",
     "output_type": "stream",
     "text": [
      "This is the 0 run\n",
      "This is the 1 run\n",
      "This is the 2 run\n",
      "This is the 3 run\n",
      "This is the 4 run\n",
      "[572, 382, 297, 156, 157]\n"
     ]
    }
   ],
   "source": [
    "# Create Array of Random Numbers \n",
    "\n",
    "number_of_integers = 5\n",
    "list_of_rand_int = []\n",
    "\n",
    "for i in range(number_of_integers):\n",
    "    print(f'This is the {i} run')\n",
    "    list_of_rand_int.append(random.randrange(0,1000))\n",
    "    \n",
    "print(list_of_rand_int)"
   ]
  },
  {
   "cell_type": "code",
   "execution_count": 4,
   "id": "949d2b86-143a-4a3f-9bd4-fb32e4c9ae39",
   "metadata": {},
   "outputs": [
    {
     "name": "stdout",
     "output_type": "stream",
     "text": [
      "[572, 382, 297, 156, 157]\n"
     ]
    }
   ],
   "source": [
    "# Order Numbers from greatest to least by left-most digit\n",
    "\n",
    "def get_left_most_digit(number):\n",
    "    # Alter code for dealing with second-left digit, thrid-left digit, etc.\n",
    "    return int(str(number)[:2])\n",
    "\n",
    "list_of_rand_int.sort(reverse = True, key = get_left_most_digit)\n",
    "\n",
    "print(list_of_rand_int)"
   ]
  },
  {
   "cell_type": "code",
   "execution_count": 6,
   "id": "80661ad5-7a05-4493-b30f-25e46b8627f2",
   "metadata": {},
   "outputs": [
    {
     "name": "stdout",
     "output_type": "stream",
     "text": [
      "572382297156157\n"
     ]
    }
   ],
   "source": [
    "# Display combined number\n",
    "combined_str = str()\n",
    "for i in list_of_rand_int:\n",
    "    combined_str += str(i)\n",
    "    \n",
    "print(int(combined_str))"
   ]
  },
  {
   "cell_type": "code",
   "execution_count": null,
   "id": "df21b98d-0aec-4ab4-a2ec-6b0e02bf6c25",
   "metadata": {},
   "outputs": [],
   "source": []
  }
 ],
 "metadata": {
  "kernelspec": {
   "display_name": "Python 3 (ipykernel)",
   "language": "python",
   "name": "python3"
  },
  "language_info": {
   "codemirror_mode": {
    "name": "ipython",
    "version": 3
   },
   "file_extension": ".py",
   "mimetype": "text/x-python",
   "name": "python",
   "nbconvert_exporter": "python",
   "pygments_lexer": "ipython3",
   "version": "3.8.10"
  }
 },
 "nbformat": 4,
 "nbformat_minor": 5
}
