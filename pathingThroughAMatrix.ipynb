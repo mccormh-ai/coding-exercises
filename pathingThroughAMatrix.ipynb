{
 "cells": [
  {
   "cell_type": "code",
   "execution_count": 1,
   "id": "76b5b832-16cd-481b-b309-e8b2e321c44e",
   "metadata": {},
   "outputs": [],
   "source": [
    "# Good morning! Here's your coding interview problem for today.\n",
    "\n",
    "# This question was asked by Zillow.\n",
    "\n",
    "# You are given a 2-d matrix where each cell represents number of coins in that cell. Assuming we start at matrix[0][0], and can only move right or down, find the maximum number of coins you can collect by the bottom right corner.\n",
    "\n",
    "# For example, in this matrix\n",
    "\n",
    "# 0 3 1 1\n",
    "# 2 0 0 4\n",
    "# 1 5 3 1\n",
    "\n",
    "# The most we can collect is 0 + 2 + 1 + 5 + 3 + 1 = 12 coins."
   ]
  },
  {
   "cell_type": "code",
   "execution_count": 2,
   "id": "7e4bd3f5-9e2c-45f5-9ffe-dd43cc1c1909",
   "metadata": {},
   "outputs": [],
   "source": [
    "import pandas as pd \n",
    "import numpy as np"
   ]
  },
  {
   "cell_type": "code",
   "execution_count": 3,
   "id": "8b4c89dc-1163-47e7-872f-eeb863244a65",
   "metadata": {},
   "outputs": [
    {
     "name": "stdout",
     "output_type": "stream",
     "text": [
      "[[7 1 0 6]\n",
      " [3 5 4 6]\n",
      " [0 7 2 2]]\n"
     ]
    }
   ],
   "source": [
    "# Create a Random Matrix of [A,B] of Values Between C and D\n",
    "\n",
    "width = 4\n",
    "height = 3\n",
    "rand_low = 0\n",
    "rand_high = 9\n",
    "\n",
    "array = np.random.randint(rand_high, size=(height, width))\n",
    "print(array)"
   ]
  },
  {
   "cell_type": "code",
   "execution_count": 4,
   "id": "f27ddbec-5e93-446e-9158-dfee1a15511d",
   "metadata": {},
   "outputs": [],
   "source": [
    "#path through using the largest adjacent value\n",
    "\n",
    "# _sum = 0 \n",
    "\n",
    "# for i in range(6)"
   ]
  },
  {
   "cell_type": "code",
   "execution_count": 5,
   "id": "815cdcfc-31a4-4a1c-a722-b7cec54c9ce4",
   "metadata": {},
   "outputs": [],
   "source": [
    "# Skip that, create a list of all possible paths, convert to matrix coordinates, and sum. Fund largest sum."
   ]
  },
  {
   "cell_type": "code",
   "execution_count": 6,
   "id": "057b2fcf-306e-49ca-82bb-7a412b17cc2f",
   "metadata": {},
   "outputs": [
    {
     "ename": "IndexError",
     "evalue": "list index out of range",
     "output_type": "error",
     "traceback": [
      "\u001b[0;31m---------------------------------------------------------------------------\u001b[0m",
      "\u001b[0;31mIndexError\u001b[0m                                Traceback (most recent call last)",
      "\u001b[0;32m/tmp/ipykernel_21266/2386747541.py\u001b[0m in \u001b[0;36m<module>\u001b[0;34m\u001b[0m\n\u001b[1;32m     48\u001b[0m \u001b[0;34m\u001b[0m\u001b[0m\n\u001b[1;32m     49\u001b[0m \u001b[0;31m# path from arr[0][0] to arr[row][col]\u001b[0m\u001b[0;34m\u001b[0m\u001b[0;34m\u001b[0m\u001b[0;34m\u001b[0m\u001b[0m\n\u001b[0;32m---> 50\u001b[0;31m \u001b[0;32mif\u001b[0m \u001b[0;34m(\u001b[0m\u001b[0misPath\u001b[0m\u001b[0;34m(\u001b[0m\u001b[0marr\u001b[0m\u001b[0;34m)\u001b[0m\u001b[0;34m)\u001b[0m \u001b[0;34m:\u001b[0m\u001b[0;34m\u001b[0m\u001b[0;34m\u001b[0m\u001b[0m\n\u001b[0m\u001b[1;32m     51\u001b[0m     \u001b[0mprint\u001b[0m\u001b[0;34m(\u001b[0m\u001b[0;34m\"Yes\"\u001b[0m\u001b[0;34m)\u001b[0m\u001b[0;34m\u001b[0m\u001b[0;34m\u001b[0m\u001b[0m\n\u001b[1;32m     52\u001b[0m \u001b[0;32melse\u001b[0m \u001b[0;34m:\u001b[0m\u001b[0;34m\u001b[0m\u001b[0;34m\u001b[0m\u001b[0m\n",
      "\u001b[0;32m/tmp/ipykernel_21266/2386747541.py\u001b[0m in \u001b[0;36misPath\u001b[0;34m(arr)\u001b[0m\n\u001b[1;32m     32\u001b[0m \u001b[0;34m\u001b[0m\u001b[0m\n\u001b[1;32m     33\u001b[0m             \u001b[0;31m# using the direction array\u001b[0m\u001b[0;34m\u001b[0m\u001b[0;34m\u001b[0m\u001b[0;34m\u001b[0m\u001b[0m\n\u001b[0;32m---> 34\u001b[0;31m             \u001b[0ma\u001b[0m \u001b[0;34m=\u001b[0m \u001b[0mp\u001b[0m\u001b[0;34m[\u001b[0m\u001b[0;36m0\u001b[0m\u001b[0;34m]\u001b[0m \u001b[0;34m+\u001b[0m \u001b[0mDir\u001b[0m\u001b[0;34m[\u001b[0m\u001b[0mi\u001b[0m\u001b[0;34m]\u001b[0m\u001b[0;34m[\u001b[0m\u001b[0;36m0\u001b[0m\u001b[0;34m]\u001b[0m\u001b[0;34m\u001b[0m\u001b[0;34m\u001b[0m\u001b[0m\n\u001b[0m\u001b[1;32m     35\u001b[0m             \u001b[0mb\u001b[0m \u001b[0;34m=\u001b[0m \u001b[0mp\u001b[0m\u001b[0;34m[\u001b[0m\u001b[0;36m1\u001b[0m\u001b[0;34m]\u001b[0m \u001b[0;34m+\u001b[0m \u001b[0mDir\u001b[0m\u001b[0;34m[\u001b[0m\u001b[0mi\u001b[0m\u001b[0;34m]\u001b[0m\u001b[0;34m[\u001b[0m\u001b[0;36m1\u001b[0m\u001b[0;34m]\u001b[0m\u001b[0;34m\u001b[0m\u001b[0;34m\u001b[0m\u001b[0m\n\u001b[1;32m     36\u001b[0m \u001b[0;34m\u001b[0m\u001b[0m\n",
      "\u001b[0;31mIndexError\u001b[0m: list index out of range"
     ]
    }
   ],
   "source": [
    "# from top left to right bottom\n",
    "row = 5\n",
    "col = 5\n",
    " \n",
    "# to find the path from\n",
    "# top left to bottom right\n",
    "def isPath(arr) :\n",
    " \n",
    "    # directions\n",
    "    Dir = [ [0, 1], [1, 0]]\n",
    "     \n",
    "    # queue\n",
    "    q = []\n",
    "     \n",
    "    # insert the top right corner.\n",
    "    q.append((0, 0))\n",
    "     \n",
    "    # until queue is empty\n",
    "    while(len(q) > 0) :\n",
    "        p = q[0]\n",
    "        q.pop(0)\n",
    "         \n",
    "        # mark as visited\n",
    "        arr[p[0]][p[1]] = -1\n",
    "         \n",
    "        # destination is reached.\n",
    "        if(p == (row - 1, col - 1)) :\n",
    "            return True\n",
    "             \n",
    "        # check all four directions\n",
    "        for i in range(4) :\n",
    "         \n",
    "            # using the direction array\n",
    "            a = p[0] + Dir[i][0]\n",
    "            b = p[1] + Dir[i][1]\n",
    "             \n",
    "            # not blocked and valid\n",
    "            if(a >= 0 and b >= 0 and a < row and b < col and arr[a][b] != -1) :           \n",
    "                q.append((a, b))\n",
    "    return False\n",
    "   \n",
    "# Given array\n",
    "arr = [ [ 0, 0, 0, -1, 0 ],\n",
    "        [ -1, 0, 0, -1, -1 ],\n",
    "        [ 0, 0, 0, -1, 0 ],\n",
    "        [ -1, 0, -1, 0, -1 ],\n",
    "        [ 0, 0, -1, 0, 0 ] ]\n",
    " \n",
    "# path from arr[0][0] to arr[row][col]\n",
    "if (isPath(arr)) :\n",
    "    print(\"Yes\")\n",
    "else :\n",
    "    print(\"No\")\n",
    " "
   ]
  },
  {
   "cell_type": "code",
   "execution_count": null,
   "id": "4eb9c148-1f72-4d5f-b7b7-36682536e0ac",
   "metadata": {},
   "outputs": [],
   "source": [
    "def numberOfPaths(m, n):\n",
    "    \n",
    "    if (m == 1 or n == 1):\n",
    "        return 1\n",
    "    \n",
    "    return  numberOfPaths(m-1, n) + "
   ]
  }
 ],
 "metadata": {
  "kernelspec": {
   "display_name": "Python 3 (ipykernel)",
   "language": "python",
   "name": "python3"
  },
  "language_info": {
   "codemirror_mode": {
    "name": "ipython",
    "version": 3
   },
   "file_extension": ".py",
   "mimetype": "text/x-python",
   "name": "python",
   "nbconvert_exporter": "python",
   "pygments_lexer": "ipython3",
   "version": "3.8.10"
  }
 },
 "nbformat": 4,
 "nbformat_minor": 5
}
