{
 "cells": [
  {
   "cell_type": "code",
   "execution_count": 2,
   "id": "76b5b832-16cd-481b-b309-e8b2e321c44e",
   "metadata": {},
   "outputs": [],
   "source": [
    "# Good morning! Here's your coding interview problem for today.\n",
    "\n",
    "# This question was asked by Zillow.\n",
    "\n",
    "# You are given a 2-d matrix where each cell represents number of coins in that cell. Assuming we start at matrix[0][0], and can only move right or down, find the maximum number of coins you can collect by the bottom right corner.\n",
    "\n",
    "# For example, in this matrix\n",
    "\n",
    "# 0 3 1 1\n",
    "# 2 0 0 4\n",
    "# 1 5 3 1\n",
    "\n",
    "# The most we can collect is 0 + 2 + 1 + 5 + 3 + 1 = 12 coins."
   ]
  },
  {
   "cell_type": "code",
   "execution_count": 3,
   "id": "7e4bd3f5-9e2c-45f5-9ffe-dd43cc1c1909",
   "metadata": {},
   "outputs": [],
   "source": [
    "import pandas as pd \n",
    "import numpy as np"
   ]
  },
  {
   "cell_type": "code",
   "execution_count": 7,
   "id": "8b4c89dc-1163-47e7-872f-eeb863244a65",
   "metadata": {},
   "outputs": [
    {
     "data": {
      "text/html": [
       "<div>\n",
       "<style scoped>\n",
       "    .dataframe tbody tr th:only-of-type {\n",
       "        vertical-align: middle;\n",
       "    }\n",
       "\n",
       "    .dataframe tbody tr th {\n",
       "        vertical-align: top;\n",
       "    }\n",
       "\n",
       "    .dataframe thead th {\n",
       "        text-align: right;\n",
       "    }\n",
       "</style>\n",
       "<table border=\"1\" class=\"dataframe\">\n",
       "  <thead>\n",
       "    <tr style=\"text-align: right;\">\n",
       "      <th></th>\n",
       "      <th>0</th>\n",
       "      <th>1</th>\n",
       "      <th>2</th>\n",
       "      <th>3</th>\n",
       "    </tr>\n",
       "  </thead>\n",
       "  <tbody>\n",
       "    <tr>\n",
       "      <th>0</th>\n",
       "      <td>4</td>\n",
       "      <td>8</td>\n",
       "      <td>2</td>\n",
       "      <td>4</td>\n",
       "    </tr>\n",
       "    <tr>\n",
       "      <th>1</th>\n",
       "      <td>1</td>\n",
       "      <td>0</td>\n",
       "      <td>4</td>\n",
       "      <td>6</td>\n",
       "    </tr>\n",
       "    <tr>\n",
       "      <th>2</th>\n",
       "      <td>7</td>\n",
       "      <td>6</td>\n",
       "      <td>7</td>\n",
       "      <td>3</td>\n",
       "    </tr>\n",
       "  </tbody>\n",
       "</table>\n",
       "</div>"
      ],
      "text/plain": [
       "   0  1  2  3\n",
       "0  4  8  2  4\n",
       "1  1  0  4  6\n",
       "2  7  6  7  3"
      ]
     },
     "execution_count": 7,
     "metadata": {},
     "output_type": "execute_result"
    }
   ],
   "source": [
    "# Create a Random Matrix of [A,B] of Values Between C and D\n",
    "\n",
    "width = 4\n",
    "height = 3\n",
    "rand_low = 0\n",
    "rand_high = 9\n",
    "\n",
    "df = pd.DataFrame(np.random.randint(rand_high, size=(height, width)))\n",
    "df.head()"
   ]
  },
  {
   "cell_type": "code",
   "execution_count": 5,
   "id": "f27ddbec-5e93-446e-9158-dfee1a15511d",
   "metadata": {},
   "outputs": [],
   "source": [
    "#path through using the largest adjacent value\n",
    "\n",
    "# _sum = 0 \n",
    "\n",
    "# for i in range(6)"
   ]
  },
  {
   "cell_type": "code",
   "execution_count": 6,
   "id": "815cdcfc-31a4-4a1c-a722-b7cec54c9ce4",
   "metadata": {},
   "outputs": [],
   "source": [
    "# Skip that, create a list of all possible paths, convert to matrix coordinates, and sum. Fund largest sum."
   ]
  },
  {
   "cell_type": "code",
   "execution_count": 19,
   "id": "057b2fcf-306e-49ca-82bb-7a412b17cc2f",
   "metadata": {},
   "outputs": [
    {
     "name": "stdout",
     "output_type": "stream",
     "text": [
      "12\n",
      "[[0, 0]]\n"
     ]
    }
   ],
   "source": [
    "ix = 0\n",
    "iy = 0\n",
    "\n",
    "combinations = list()\n",
    "print(df.shape[0] * df.shape[1])\n",
    "\n",
    "directions = [[1,0],[0,1]]\n",
    "\n",
    "combinations.append([ix, iy])\n",
    "print(combinations)\n",
    "#for len(df.col) * len(df.rows)\n",
    "\n",
    "\n",
    "#df.at[[0,0]]"
   ]
  },
  {
   "cell_type": "code",
   "execution_count": 49,
   "id": "4eb9c148-1f72-4d5f-b7b7-36682536e0ac",
   "metadata": {},
   "outputs": [],
   "source": [
    "def get_next_coordinates(coord, max_x, max_y):\n",
    "    print(coord)\n",
    "    results = list()\n",
    "    for direction in directions:\n",
    "        print(direction)\n",
    "        sub_result = [x + y for x, y in zip(coord, direction)]\n",
    "        if sub_result[0] > max_x or sub_result[1] > max_y:\n",
    "            break\n",
    "        results.append(sub_result)\n",
    "    print(\"Next Coordinates:\")\n",
    "    print(results)\n",
    "    return results\n",
    "\n",
    "\n",
    "#get_next_coordinates([0,1], max_x=df.shape[0], max_y=df.shape[1])"
   ]
  },
  {
   "cell_type": "code",
   "execution_count": 54,
   "metadata": {},
   "outputs": [
    {
     "name": "stdout",
     "output_type": "stream",
     "text": [
      "0\n",
      "[[0, 0]]\n",
      "[0, 0]\n",
      "[1, 0]\n",
      "[0, 1]\n",
      "Next Coordinates:\n",
      "[[1, 0], [0, 1]]\n",
      "New Set:\n",
      "[[[0, 0], [1, 0]], [[0, 0], [0, 1]]]\n",
      "0\n",
      "[[0, 0], [1, 0]]\n",
      "[1, 0]\n",
      "[1, 0]\n",
      "[0, 1]\n",
      "Next Coordinates:\n",
      "[[2, 0], [1, 1]]\n",
      "New Set:\n",
      "[[[1, 0], [2, 0]], [[1, 0], [1, 1]]]\n",
      "1\n",
      "[[1, 0], [1, 1]]\n",
      "[1, 1]\n",
      "[1, 0]\n",
      "[0, 1]\n",
      "Next Coordinates:\n",
      "[[2, 1], [1, 2]]\n",
      "New Set:\n",
      "[[[1, 1], [2, 1]], [[1, 1], [1, 2]]]\n",
      "0\n",
      "[[1, 1], [2, 1]]\n",
      "[2, 1]\n",
      "[1, 0]\n",
      "[0, 1]\n",
      "Next Coordinates:\n",
      "[[3, 1], [2, 2]]\n",
      "New Set:\n",
      "[[[2, 1], [3, 1]], [[2, 1], [2, 2]]]\n",
      "1\n",
      "[[2, 1], [2, 2]]\n",
      "[2, 2]\n",
      "[1, 0]\n",
      "[0, 1]\n",
      "Next Coordinates:\n",
      "[[3, 2], [2, 3]]\n",
      "New Set:\n",
      "[[[2, 2], [3, 2]], [[2, 2], [2, 3]]]\n",
      "0\n",
      "[[2, 2], [3, 2]]\n",
      "[3, 2]\n",
      "[1, 0]\n",
      "Next Coordinates:\n",
      "[]\n",
      "New Set:\n",
      "[]\n",
      "1\n"
     ]
    },
    {
     "ename": "IndexError",
     "evalue": "list index out of range",
     "output_type": "error",
     "traceback": [
      "\u001b[1;31m---------------------------------------------------------------------------\u001b[0m",
      "\u001b[1;31mIndexError\u001b[0m                                Traceback (most recent call last)",
      "\u001b[1;32mC:\\Users\\HAYDEN~1.MCC\\AppData\\Local\\Temp/ipykernel_4256/670689645.py\u001b[0m in \u001b[0;36m<module>\u001b[1;34m\u001b[0m\n\u001b[0;32m     21\u001b[0m \u001b[1;33m\u001b[0m\u001b[0m\n\u001b[0;32m     22\u001b[0m \u001b[1;33m\u001b[0m\u001b[0m\n\u001b[1;32m---> 23\u001b[1;33m \u001b[0mcheck_results_and_append\u001b[0m\u001b[1;33m(\u001b[0m\u001b[0mix\u001b[0m\u001b[1;33m=\u001b[0m\u001b[1;36m0\u001b[0m\u001b[1;33m,\u001b[0m \u001b[0miy\u001b[0m\u001b[1;33m=\u001b[0m\u001b[1;36m0\u001b[0m\u001b[1;33m,\u001b[0m \u001b[0mmax_x\u001b[0m\u001b[1;33m=\u001b[0m\u001b[0mdf\u001b[0m\u001b[1;33m.\u001b[0m\u001b[0mshape\u001b[0m\u001b[1;33m[\u001b[0m\u001b[1;36m0\u001b[0m\u001b[1;33m]\u001b[0m\u001b[1;33m,\u001b[0m \u001b[0mmax_y\u001b[0m\u001b[1;33m=\u001b[0m\u001b[0mdf\u001b[0m\u001b[1;33m.\u001b[0m\u001b[0mshape\u001b[0m\u001b[1;33m[\u001b[0m\u001b[1;36m1\u001b[0m\u001b[1;33m]\u001b[0m\u001b[1;33m)\u001b[0m\u001b[1;33m\u001b[0m\u001b[1;33m\u001b[0m\u001b[0m\n\u001b[0m",
      "\u001b[1;32mC:\\Users\\HAYDEN~1.MCC\\AppData\\Local\\Temp/ipykernel_4256/670689645.py\u001b[0m in \u001b[0;36mcheck_results_and_append\u001b[1;34m(ix, iy, max_x, max_y)\u001b[0m\n\u001b[0;32m      6\u001b[0m         \u001b[1;32mfor\u001b[0m \u001b[0mi\u001b[0m \u001b[1;32min\u001b[0m \u001b[0mrange\u001b[0m\u001b[1;33m(\u001b[0m\u001b[0mlen\u001b[0m\u001b[1;33m(\u001b[0m\u001b[0mresults\u001b[0m\u001b[1;33m)\u001b[0m\u001b[1;33m)\u001b[0m\u001b[1;33m:\u001b[0m\u001b[1;33m\u001b[0m\u001b[1;33m\u001b[0m\u001b[0m\n\u001b[0;32m      7\u001b[0m             \u001b[0mprint\u001b[0m\u001b[1;33m(\u001b[0m\u001b[0mi\u001b[0m\u001b[1;33m)\u001b[0m\u001b[1;33m\u001b[0m\u001b[1;33m\u001b[0m\u001b[0m\n\u001b[1;32m----> 8\u001b[1;33m             \u001b[0mprint\u001b[0m\u001b[1;33m(\u001b[0m\u001b[0mresults\u001b[0m\u001b[1;33m[\u001b[0m\u001b[0mi\u001b[0m\u001b[1;33m]\u001b[0m\u001b[1;33m)\u001b[0m\u001b[1;33m\u001b[0m\u001b[1;33m\u001b[0m\u001b[0m\n\u001b[0m\u001b[0;32m      9\u001b[0m             \u001b[1;32mif\u001b[0m \u001b[0mresults\u001b[0m\u001b[1;33m[\u001b[0m\u001b[0mi\u001b[0m\u001b[1;33m]\u001b[0m\u001b[1;33m[\u001b[0m\u001b[1;33m-\u001b[0m\u001b[1;36m1\u001b[0m\u001b[1;33m]\u001b[0m\u001b[1;33m[\u001b[0m\u001b[1;36m0\u001b[0m\u001b[1;33m]\u001b[0m \u001b[1;33m>\u001b[0m \u001b[0mmax_x\u001b[0m \u001b[1;32mor\u001b[0m \u001b[0mresults\u001b[0m\u001b[1;33m[\u001b[0m\u001b[0mi\u001b[0m\u001b[1;33m]\u001b[0m\u001b[1;33m[\u001b[0m\u001b[1;33m-\u001b[0m\u001b[1;36m1\u001b[0m\u001b[1;33m]\u001b[0m\u001b[1;33m[\u001b[0m\u001b[1;36m1\u001b[0m\u001b[1;33m]\u001b[0m \u001b[1;33m>\u001b[0m \u001b[0mmax_y\u001b[0m\u001b[1;33m:\u001b[0m\u001b[1;33m\u001b[0m\u001b[1;33m\u001b[0m\u001b[0m\n\u001b[0;32m     10\u001b[0m                 \u001b[1;32mbreak\u001b[0m\u001b[1;33m\u001b[0m\u001b[1;33m\u001b[0m\u001b[0m\n",
      "\u001b[1;31mIndexError\u001b[0m: list index out of range"
     ]
    }
   ],
   "source": [
    "def check_results_and_append(ix, iy, max_x, max_y):\n",
    "    results = list()\n",
    "    results.append([[ix, iy]])\n",
    "    complete = 0\n",
    "    while complete == 0:\n",
    "        for i in range(len(results)):\n",
    "            print(i)\n",
    "            print(results[i])\n",
    "            if results[i][-1][0] > max_x or results[i][-1][1] > max_y:\n",
    "                break\n",
    "            #if results[]\n",
    "            next_step = get_next_coordinates(results[i][-1],max_x=3, max_y=3)\n",
    "            sub_result = list()\n",
    "            for step in next_step:\n",
    "                sub_result.append([results[i][-1], step])\n",
    "            results = sub_result\n",
    "            print(\"New Set:\")\n",
    "            print(results)\n",
    "        #print(results[i])\n",
    "        #print(results[i][-1])\n",
    "\n",
    "\n",
    "check_results_and_append(ix=0, iy=0, max_x=df.shape[0], max_y=df.shape[1])"
   ]
  },
  {
   "cell_type": "code",
   "execution_count": null,
   "metadata": {},
   "outputs": [],
   "source": []
  }
 ],
 "metadata": {
  "interpreter": {
   "hash": "379ff19d33b3cad5900cd253177ecf7386e0a01ef11e1d53a7e181b925ed5d68"
  },
  "kernelspec": {
   "display_name": "Python 3.7.5 64-bit ('GTZ_test': conda)",
   "name": "python3"
  },
  "language_info": {
   "codemirror_mode": {
    "name": "ipython",
    "version": 3
   },
   "file_extension": ".py",
   "mimetype": "text/x-python",
   "name": "python",
   "nbconvert_exporter": "python",
   "pygments_lexer": "ipython3",
   "version": "3.7.5"
  }
 },
 "nbformat": 4,
 "nbformat_minor": 5
}
